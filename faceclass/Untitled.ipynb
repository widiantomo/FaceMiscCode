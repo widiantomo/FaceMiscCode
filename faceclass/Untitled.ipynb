{
 "cells": [
  {
   "cell_type": "code",
   "execution_count": 26,
   "id": "02237a14",
   "metadata": {},
   "outputs": [],
   "source": [
    "from facenet_pytorch import MTCNN, InceptionResnetV1\n",
    "\n",
    "# If required, create a face detection pipeline using MTCNN:\n",
    "#mtcnn = MTCNN(image_size=160, margin=0)\n",
    "mtcnn = MTCNN()\n",
    "\n",
    "# Create an inception resnet (in eval mode):\n",
    "resnet = InceptionResnetV1(pretrained='vggface2').eval()#"
   ]
  },
  {
   "cell_type": "code",
   "execution_count": 35,
   "id": "f9fc1620",
   "metadata": {},
   "outputs": [],
   "source": [
    "from PIL import Image\n",
    "import numpy as np\n",
    "import os\n",
    "\n",
    "directory = '/home/l/picproject/google-images-download/FaceOfIndonesia'\n",
    "#/home/l/picproject/google-images-download/FaceOfIndonesia/\n",
    "\n",
    "for filename in os.listdir(directory):\n",
    "    f = os.path.join(directory, filename)\n",
    "    # checking if it is a file\n",
    "    if os.path.isfile(f):\n",
    "        img = Image.open(f)\n",
    "        newsize = (160, 160)\n",
    "        img = img.resize(newsize)\n",
    "        face_tensor, prob = mtcnn(img, save_path='./WNFKVMY4AW_image_x.jpg', return_prob=True)\n",
    "        if prob is None:\n",
    "            os.remove(f)\n"
   ]
  },
  {
   "cell_type": "code",
   "execution_count": 33,
   "id": "74673f14",
   "metadata": {},
   "outputs": [
    {
     "name": "stdout",
     "output_type": "stream",
     "text": [
      "0.9999982\n"
     ]
    }
   ],
   "source": [
    "print(prob)"
   ]
  },
  {
   "cell_type": "code",
   "execution_count": 34,
   "id": "5873d82c",
   "metadata": {},
   "outputs": [
    {
     "name": "stdout",
     "output_type": "stream",
     "text": [
      "tensor([[[ 0.1367,  0.1445,  0.1523,  ..., -0.8633, -0.8164, -0.7930],\n",
      "         [ 0.1367,  0.1523,  0.1836,  ..., -0.8164, -0.8008, -0.8008],\n",
      "         [ 0.1836,  0.2070,  0.2383,  ..., -0.7773, -0.7930, -0.8086],\n",
      "         ...,\n",
      "         [-0.5977, -0.5977, -0.6055,  ..., -0.9883, -0.9961, -0.9961],\n",
      "         [-0.5977, -0.5977, -0.6055,  ..., -0.9805, -0.9492, -0.9258],\n",
      "         [-0.5977, -0.5977, -0.6055,  ..., -0.9570, -0.8633, -0.8086]],\n",
      "\n",
      "        [[-0.1836, -0.1836, -0.1836,  ..., -0.8867, -0.8398, -0.8164],\n",
      "         [-0.1914, -0.1758, -0.1523,  ..., -0.8398, -0.8242, -0.8164],\n",
      "         [-0.1523, -0.1367, -0.1055,  ..., -0.8008, -0.8164, -0.8242],\n",
      "         ...,\n",
      "         [-0.7305, -0.7305, -0.7383,  ..., -0.9883, -0.9961, -0.9961],\n",
      "         [-0.7305, -0.7305, -0.7383,  ..., -0.9805, -0.9492, -0.9258],\n",
      "         [-0.7383, -0.7383, -0.7383,  ..., -0.9570, -0.8633, -0.8086]],\n",
      "\n",
      "        [[-0.2461, -0.2461, -0.2383,  ..., -0.8164, -0.7617, -0.7305],\n",
      "         [-0.2617, -0.2461, -0.2148,  ..., -0.7695, -0.7383, -0.7227],\n",
      "         [-0.2305, -0.2148, -0.1680,  ..., -0.7227, -0.7305, -0.7227],\n",
      "         ...,\n",
      "         [-0.7852, -0.7852, -0.7930,  ..., -0.9883, -0.9961, -0.9961],\n",
      "         [-0.7852, -0.7852, -0.7930,  ..., -0.9805, -0.9492, -0.9258],\n",
      "         [-0.7852, -0.7852, -0.7930,  ..., -0.9570, -0.8633, -0.8086]]])\n"
     ]
    }
   ],
   "source": [
    "print(face_tensor)"
   ]
  },
  {
   "cell_type": "code",
   "execution_count": 37,
   "id": "6a08b9a4",
   "metadata": {},
   "outputs": [
    {
     "name": "stdout",
     "output_type": "stream",
     "text": [
      "0.9999999\n"
     ]
    }
   ],
   "source": [
    "from PIL import Image\n",
    "import numpy as np\n",
    "\n",
    "img = Image.open('/home/l/picproject/google-images-download/FaceOfIndonesia/0F739T3X26_image_1.jpg')\n",
    "newsize = (160, 160)\n",
    "img = img.resize(newsize)\n",
    "\n",
    "face_tensor, prob = mtcnn(img, save_path='./WNFKVMY4AW_image_x.jpg', return_prob=True)\n",
    "print(prob)"
   ]
  },
  {
   "cell_type": "code",
   "execution_count": null,
   "id": "d07eff4c",
   "metadata": {},
   "outputs": [],
   "source": []
  }
 ],
 "metadata": {
  "kernelspec": {
   "display_name": "Python 3 (ipykernel)",
   "language": "python",
   "name": "python3"
  },
  "language_info": {
   "codemirror_mode": {
    "name": "ipython",
    "version": 3
   },
   "file_extension": ".py",
   "mimetype": "text/x-python",
   "name": "python",
   "nbconvert_exporter": "python",
   "pygments_lexer": "ipython3",
   "version": "3.9.13"
  }
 },
 "nbformat": 4,
 "nbformat_minor": 5
}
